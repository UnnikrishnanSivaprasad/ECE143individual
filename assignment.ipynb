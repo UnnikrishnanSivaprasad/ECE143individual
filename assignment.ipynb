{
 "cells": [
  {
   "cell_type": "markdown",
   "metadata": {},
   "source": [
    "ECE 143 Individual Assignment"
   ]
  },
  {
   "cell_type": "code",
   "execution_count": null,
   "metadata": {},
   "outputs": [],
   "source": []
  },
  {
   "cell_type": "code",
   "execution_count": 28,
   "metadata": {},
   "outputs": [],
   "source": [
    "from copy import deepcopy\n",
    "import random\n",
    "import numpy as np\n",
    "class tower(object):\n",
    "    '''Tower class\n",
    "    Generates coordinates for rectangles based on discrete uniform distribution\n",
    "    Returns a tuple containing all the coordinates\n",
    "    '''\n",
    "    posx=0\n",
    "    posy=0\n",
    "    posx1=0\n",
    "    posy1=0\n",
    "    coord=((0,0),(0,0),(0,0),(0,0))\n",
    "    def __init__(self,l,b):\n",
    "        assert isinstance (l,int) and isinstance (b,int),\"l,b not integer\"\n",
    "        self.posx=np.random.randint(0,l)\n",
    "        self.posy=np.random.randint(0,b)\n",
    "        self.posx1=np.random.randint(self.posx,l)\n",
    "        self.posy1=np.random.randint(self.posy,b)\n",
    "        self.coord=((self.posx,self.posy),(self.posx1,self.posy),(self.posx,self.posy1),(self.posx1,self.posy1))\n",
    "    def resize(self,x1,y1,x2,y2):\n",
    "        assert isinstance (x1,int) and isinstance (y1,int) and isinstance (x2,int) and isinstance (y2,int)\n",
    "        self.coord=((x1,y1),(x2,y1),(x1,y2),(x2,y2))\n",
    "        \n",
    "    \n",
    "\n",
    "   \n",
    "    "
   ]
  },
  {
   "cell_type": "code",
   "execution_count": 29,
   "metadata": {},
   "outputs": [],
   "source": [
    "class area(object):\n",
    "    '''\n",
    "    Generates matrix with area given a tower. Also adds the area of two towers\n",
    "    \n",
    "    '''\n",
    "    #m=[[0 for y in range(l)] for x in range (b)]\n",
    "    def __init__(self,t,l,b,n):\n",
    "        self.m=[[0 for y in range(l)] for x in range (b)]        \n",
    "        for i in range(t.coord[0][0],t.coord[3][0]+1):\n",
    "            for j in range(t.coord[0][1],t.coord[3][1]+1):\n",
    "                self.m[j][i]=n\n",
    "    def __add__(self,other):\n",
    "        for i in range(len(self.m)):\n",
    "            for j in range(len(self.m[i])):\n",
    "                self.m[i][j]=self.m[i][j]+other.m[i][j]\n",
    "        return self\n",
    "            \n",
    "    \n",
    "                \n",
    "                \n",
    "        \n",
    "        "
   ]
  },
  {
   "cell_type": "code",
   "execution_count": null,
   "metadata": {},
   "outputs": [],
   "source": []
  },
  {
   "cell_type": "code",
   "execution_count": 30,
   "metadata": {},
   "outputs": [],
   "source": [
    "def findnonoverlap(totalcoverage,c,n,l,b):\n",
    "    '''\n",
    "    finds the non overlapping region given current totalcoverage, tower, tower sequence number,\n",
    "    length and breadth of region\n",
    "    '''\n",
    "    a1= deepcopy(totalcoverage.m)\n",
    "    x1 = c.coord[0][0]\n",
    "    y1 = c.coord[0][1]\n",
    "    x2 = c.coord[3][0]\n",
    "    y2 = c.coord[3][1]\n",
    "    for i in range(x1,x2+1):\n",
    "        for j in range(y1,y2+1):\n",
    "            a1[j][i]+=n\n",
    "    \n",
    "    temp=[]\n",
    "    for i in range(b):\n",
    "        row=[]\n",
    "        for j in range(l):\n",
    "            row.append(int(a1[i][j] == n))\n",
    "        temp.append(row)\n",
    "            \n",
    "   \n",
    "    return temp\n",
    "            \n",
    "    "
   ]
  },
  {
   "cell_type": "code",
   "execution_count": 31,
   "metadata": {},
   "outputs": [],
   "source": [
    "def maximalRectangle(matrix):\n",
    "    \"\"\"\n",
    "    Finds the maximal rectangle in the trimmed region\n",
    "    Input is the matrix of non overlapping region\n",
    "    \"\"\"\n",
    "        \n",
    "    if not matrix or not matrix[0]:\n",
    "        return 0\n",
    "    #for row in matrix:\n",
    "     #   print (row)\n",
    "           \n",
    "    n = len(matrix[0])\n",
    "    height = [0] * (n + 1)\n",
    "    ans = 0\n",
    "    j=0;\n",
    "    pos=(0,0,0,0)\n",
    "    for row in matrix:\n",
    "        for i in range(n):\n",
    "            height[i] = height[i] + 1 if row[i] == 1 else 0\n",
    "        #print(\"height is\")\n",
    "        #print(height)\n",
    "        stack = [-1]\n",
    "        for i in range(n + 1):\n",
    "            #print(\"stack is\",stack[-1])\n",
    "            #print(height[stack[-1]])\n",
    "            while height[i] < height[stack[-1]]:\n",
    "                h = height[stack.pop()]\n",
    "                #print(\" h is\",h)\n",
    "                w = i - 1 - stack[-1]\n",
    "                #print(\"stack is\",stack[-1])\n",
    "                #print(\"i is\",i)\n",
    "                    \n",
    "                if h*w >ans:\n",
    "                    pos =(stack[-1]+1, j-h+1,w,h)\n",
    "                ans = max(ans, h * w)\n",
    "                #print(\"ans is\",ans)\n",
    "            stack.append(i)\n",
    "            #print(\"stack is\")\n",
    "            #print(stack)\n",
    "        j+=1\n",
    "    #print(\"pos is\",pos)\n",
    "    return pos,ans\n",
    "\n",
    "\n"
   ]
  },
  {
   "cell_type": "code",
   "execution_count": 32,
   "metadata": {},
   "outputs": [],
   "source": [
    "def areacov(n,l,b):\n",
    "    '''\n",
    "    Generates a matrix containing information about area coverage\n",
    "    The number in the matrix tells us which tower covers that particular point\n",
    "    returns the coverage coordinates of tower1 and tower 2\n",
    "    '''\n",
    "    tower1 =[]\n",
    "    tower2 =[]\n",
    "    m=[[]]\n",
    "    temp=[[0 for y in range(l)] for x in range (b)]\n",
    "    for i in range(n):\n",
    "        c=tower(l,b)\n",
    "        if i==0:\n",
    "            totalcoverage=area(c,l,b,1)\n",
    "            tower1.append(c)\n",
    "            tower2.append(c)\n",
    "        if i:\n",
    "            tower2.append(c)\n",
    "            temp=findnonoverlap(totalcoverage,c,i+1,l,b)\n",
    "            maxrect,ans=maximalRectangle(temp)\n",
    "            newtower=tower(l,b)\n",
    "            newtower.resize(maxrect[0],maxrect[1],maxrect[0]+maxrect[2]-1,maxrect[1]+maxrect[3]-1)\n",
    "            tower1.append(newtower)\n",
    "            area_new=area(newtower,l,b,i+1) \n",
    "            totalcoverage+area_new\n",
    "    return totalcoverage,tower1,tower2"
   ]
  },
  {
   "cell_type": "code",
   "execution_count": 35,
   "metadata": {},
   "outputs": [],
   "source": [
    "def avarea(n,l,b):\n",
    "    area=0\n",
    "    for i1 in range(50):\n",
    "        cov,tow1,tow2=areacov(n,l,b)\n",
    "        for i in range(l):\n",
    "            for j in range(b):\n",
    "                if cov.m[j][i] > 0:\n",
    "                    area+=1\n",
    "    print(area/50)"
   ]
  },
  {
   "cell_type": "code",
   "execution_count": 34,
   "metadata": {},
   "outputs": [],
   "source": [
    "totalcoverage,tow1,tow2=areacov(10,10,20)"
   ]
  },
  {
   "cell_type": "code",
   "execution_count": 40,
   "metadata": {},
   "outputs": [
    {
     "name": "stdout",
     "output_type": "stream",
     "text": [
      "55\n"
     ]
    }
   ],
   "source": [
    "avarea(10,10,10)"
   ]
  },
  {
   "cell_type": "code",
   "execution_count": null,
   "metadata": {},
   "outputs": [],
   "source": []
  },
  {
   "cell_type": "code",
   "execution_count": null,
   "metadata": {},
   "outputs": [],
   "source": []
  },
  {
   "cell_type": "code",
   "execution_count": null,
   "metadata": {},
   "outputs": [],
   "source": []
  },
  {
   "cell_type": "code",
   "execution_count": null,
   "metadata": {},
   "outputs": [],
   "source": []
  },
  {
   "cell_type": "code",
   "execution_count": null,
   "metadata": {},
   "outputs": [],
   "source": []
  },
  {
   "cell_type": "code",
   "execution_count": null,
   "metadata": {},
   "outputs": [],
   "source": []
  },
  {
   "cell_type": "code",
   "execution_count": null,
   "metadata": {},
   "outputs": [],
   "source": []
  },
  {
   "cell_type": "code",
   "execution_count": null,
   "metadata": {
    "collapsed": true
   },
   "outputs": [],
   "source": []
  },
  {
   "cell_type": "code",
   "execution_count": null,
   "metadata": {
    "collapsed": true
   },
   "outputs": [],
   "source": [
    "\n",
    "            \n",
    "    \n"
   ]
  },
  {
   "cell_type": "code",
   "execution_count": 675,
   "metadata": {
    "collapsed": true
   },
   "outputs": [],
   "source": []
  },
  {
   "cell_type": "code",
   "execution_count": 50,
   "metadata": {
    "collapsed": true
   },
   "outputs": [],
   "source": []
  },
  {
   "cell_type": "code",
   "execution_count": 826,
   "metadata": {
    "collapsed": true
   },
   "outputs": [],
   "source": [
    "c=tower(l,b)\n",
    "totalcoverage=area(c,l,b,1)"
   ]
  },
  {
   "cell_type": "code",
   "execution_count": 827,
   "metadata": {},
   "outputs": [
    {
     "data": {
      "text/plain": [
       "[[0, 0, 0, 0, 0, 0, 0, 0, 0, 0],\n",
       " [0, 0, 0, 0, 0, 0, 0, 0, 0, 0],\n",
       " [0, 0, 0, 0, 0, 0, 0, 0, 0, 0],\n",
       " [0, 0, 0, 0, 0, 0, 0, 0, 0, 0],\n",
       " [0, 0, 0, 0, 0, 0, 0, 0, 0, 0],\n",
       " [0, 0, 0, 0, 0, 0, 0, 0, 0, 0],\n",
       " [0, 0, 1, 0, 0, 0, 0, 0, 0, 0],\n",
       " [0, 0, 1, 0, 0, 0, 0, 0, 0, 0],\n",
       " [0, 0, 1, 0, 0, 0, 0, 0, 0, 0],\n",
       " [0, 0, 1, 0, 0, 0, 0, 0, 0, 0],\n",
       " [0, 0, 1, 0, 0, 0, 0, 0, 0, 0],\n",
       " [0, 0, 1, 0, 0, 0, 0, 0, 0, 0],\n",
       " [0, 0, 1, 0, 0, 0, 0, 0, 0, 0],\n",
       " [0, 0, 1, 0, 0, 0, 0, 0, 0, 0],\n",
       " [0, 0, 1, 0, 0, 0, 0, 0, 0, 0],\n",
       " [0, 0, 1, 0, 0, 0, 0, 0, 0, 0],\n",
       " [0, 0, 1, 0, 0, 0, 0, 0, 0, 0],\n",
       " [0, 0, 1, 0, 0, 0, 0, 0, 0, 0],\n",
       " [0, 0, 1, 0, 0, 0, 0, 0, 0, 0],\n",
       " [0, 0, 1, 0, 0, 0, 0, 0, 0, 0]]"
      ]
     },
     "execution_count": 827,
     "metadata": {},
     "output_type": "execute_result"
    }
   ],
   "source": [
    "totalcoverage.m"
   ]
  },
  {
   "cell_type": "code",
   "execution_count": 828,
   "metadata": {},
   "outputs": [
    {
     "data": {
      "text/plain": [
       "((2, 6), (2, 6), (2, 19), (2, 19))"
      ]
     },
     "execution_count": 828,
     "metadata": {},
     "output_type": "execute_result"
    }
   ],
   "source": [
    "c.coord"
   ]
  },
  {
   "cell_type": "code",
   "execution_count": 813,
   "metadata": {
    "collapsed": true
   },
   "outputs": [],
   "source": [
    "l=10\n",
    "b=10"
   ]
  },
  {
   "cell_type": "code",
   "execution_count": 842,
   "metadata": {
    "collapsed": true
   },
   "outputs": [],
   "source": [
    "totalcoverage=area(c,l,b,1)\n",
    "        "
   ]
  },
  {
   "cell_type": "code",
   "execution_count": null,
   "metadata": {},
   "outputs": [],
   "source": [
    "\n"
   ]
  },
  {
   "cell_type": "code",
   "execution_count": null,
   "metadata": {},
   "outputs": [],
   "source": []
  },
  {
   "cell_type": "code",
   "execution_count": null,
   "metadata": {},
   "outputs": [],
   "source": []
  },
  {
   "cell_type": "code",
   "execution_count": null,
   "metadata": {},
   "outputs": [],
   "source": []
  },
  {
   "cell_type": "code",
   "execution_count": null,
   "metadata": {
    "collapsed": true
   },
   "outputs": [],
   "source": []
  },
  {
   "cell_type": "code",
   "execution_count": null,
   "metadata": {
    "collapsed": true
   },
   "outputs": [],
   "source": [
    "\n"
   ]
  },
  {
   "cell_type": "code",
   "execution_count": null,
   "metadata": {},
   "outputs": [],
   "source": []
  },
  {
   "cell_type": "markdown",
   "metadata": {},
   "source": [
    "randint\n",
    "1 fill_temp(3)\n",
    "different rectangles\n",
    "\n",
    "loop and fill the entire space\n",
    "\n"
   ]
  },
  {
   "cell_type": "code",
   "execution_count": null,
   "metadata": {},
   "outputs": [],
   "source": [
    "  "
   ]
  },
  {
   "cell_type": "code",
   "execution_count": null,
   "metadata": {},
   "outputs": [],
   "source": [
    "\n",
    "    "
   ]
  },
  {
   "cell_type": "markdown",
   "metadata": {
    "collapsed": true
   },
   "source": [
    "uniform distribution\n",
    "seaborn\n",
    "plotly\n",
    "matplotlib\n",
    "add test case Markdown with more explanation\n",
    "completely overallping case"
   ]
  },
  {
   "cell_type": "code",
   "execution_count": null,
   "metadata": {
    "collapsed": true
   },
   "outputs": [],
   "source": []
  },
  {
   "cell_type": "code",
   "execution_count": null,
   "metadata": {
    "collapsed": true
   },
   "outputs": [],
   "source": []
  },
  {
   "cell_type": "code",
   "execution_count": null,
   "metadata": {
    "collapsed": true
   },
   "outputs": [],
   "source": []
  },
  {
   "cell_type": "code",
   "execution_count": null,
   "metadata": {
    "collapsed": true
   },
   "outputs": [],
   "source": []
  }
 ],
 "metadata": {
  "kernelspec": {
   "display_name": "Python 2",
   "language": "python",
   "name": "python2"
  },
  "language_info": {
   "codemirror_mode": {
    "name": "ipython",
    "version": 2
   },
   "file_extension": ".py",
   "mimetype": "text/x-python",
   "name": "python",
   "nbconvert_exporter": "python",
   "pygments_lexer": "ipython2",
   "version": "2.7.14"
  }
 },
 "nbformat": 4,
 "nbformat_minor": 2
}
