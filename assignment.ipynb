{
 "cells": [
  {
   "cell_type": "markdown",
   "metadata": {},
   "source": [
    "# Individual Assignment- Analysis of Ad-Hoc Communications Network "
   ]
  },
  {
   "cell_type": "markdown",
   "metadata": {},
   "source": [
    "We have been tasked to pan the an ad-hoc communications network over a rectangular region. Each individual tower can monitor a rectangular subsection of a specific width and height. The location of the tower is generated randomly from a uniform distribution. The height and width of the tower is also generated from a uniform random distribution. I have used numpy.random.randint to generate the uniform random number. numpy.random.randint returns random integers from the “discrete uniform” distribution in the speacified range."
   ]
  },
  {
   "cell_type": "markdown",
   "metadata": {},
   "source": [
    "### Class Tower\n",
    "Defined class tower which is is used to generate towers with random locations, height and weight. Also a function resize is defined which generates towers with specific location and dimension. This function is used in the testcase to ensure that trimming of rectangles is implemented correctly. "
   ]
  },
  {
   "cell_type": "code",
   "execution_count": 61,
   "metadata": {},
   "outputs": [],
   "source": [
    "from copy import deepcopy\n",
    "import random\n",
    "import numpy as np\n",
    "import matplotlib.pyplot as plt\n",
    "import seaborn as sns\n",
    "class tower(object):\n",
    "    '''Tower class\n",
    "    Generates coordinates for rectangles based on discrete uniform distribution\n",
    "    Returns a tuple containing all the coordinates\n",
    "    '''\n",
    "    posx=0\n",
    "    posy=0\n",
    "    posx1=0\n",
    "    posy1=0\n",
    "    coord=((0,0),(0,0),(0,0),(0,0))\n",
    "    def __init__(self,l,b):\n",
    "        assert isinstance (l,int) and isinstance (b,int),\"l,b not integer\"\n",
    "        self.posx=np.random.randint(0,l)\n",
    "        self.posy=np.random.randint(0,b)\n",
    "        self.posx1=np.random.randint(self.posx,l)\n",
    "        self.posy1=np.random.randint(self.posy,b)\n",
    "        self.coord=((self.posx,self.posy),(self.posx1,self.posy),(self.posx,self.posy1),(self.posx1,self.posy1))\n",
    "    def __repr__(self):\n",
    "        return 'Coordinates are'+str((self.coord[0][0], self.coord[0][1],self.coord[3][0], self.coord[3][1] ))\n",
    "    def resize(self,x1,y1,x2,y2):\n",
    "        assert isinstance (x1,int) and isinstance (y1,int) and isinstance (x2,int) and isinstance (y2,int)\n",
    "        self.coord=((x1,y1),(x2,y1),(x1,y2),(x2,y2))\n",
    "        \n",
    "    \n",
    "\n",
    "   \n",
    "    "
   ]
  },
  {
   "cell_type": "markdown",
   "metadata": {},
   "source": [
    "### Class Area\n",
    "Defined class area which generates a matrix representing the area covered by network. This expects a tower, length, breadth and the number assigned to the tower as inputs. Also defined a function which adds the area of two regions and stores in the first region"
   ]
  },
  {
   "cell_type": "code",
   "execution_count": 117,
   "metadata": {},
   "outputs": [],
   "source": [
    "class area(object):\n",
    "    '''\n",
    "    Generates matrix with area given a tower. Also adds the area of two regions\n",
    "    \n",
    "    '''\n",
    "    def __init__(self,t,l,b,n):\n",
    "        '''\n",
    "        t: tower\n",
    "        l: length of entire region\n",
    "        b: breadth of entire region\n",
    "        '''\n",
    "        assert isinstance (t,tower) and isinstance (l,int) and isinstance (b,int) and isinstance (n,int)\n",
    "        self.m=[[0 for y in range(l)] for x in range (b)]        \n",
    "        for i in range(t.coord[0][0],t.coord[3][0]+1):\n",
    "            for j in range(t.coord[0][1],t.coord[3][1]+1):\n",
    "                self.m[j][i]=n\n",
    "    def __add__(self,other):\n",
    "        '''\n",
    "        Adds area of two regions and outputs a single area object\n",
    "        '''\n",
    "        assert isinstance(self,area) and isinstance(other,area)\n",
    "        for i in range(len(self.m)):\n",
    "            for j in range(len(self.m[i])):\n",
    "                self.m[i][j]=self.m[i][j]+other.m[i][j]\n",
    "        return self\n",
    "    def copy(self,other):\n",
    "        '''\n",
    "        Adds area of two regions and outputs a single area object\n",
    "        '''\n",
    "        assert isinstance(self,area) and isinstance(other,area)\n",
    "        for i in range(len(self.m)):\n",
    "            for j in range(len(self.m[i])):\n",
    "                self.m[i][j]=other.m[i][j]\n",
    "        return self\n",
    "            \n",
    "    \n",
    "                \n",
    "                \n",
    "        \n",
    "        "
   ]
  },
  {
   "cell_type": "markdown",
   "metadata": {},
   "source": [
    "Findnonoverlap function determines the non overalapping region between the total region covered before adding the new tower and the new tower. The function returns a matrix with non overlapping region which is used to find the largest non overlapping rectangle. "
   ]
  },
  {
   "cell_type": "code",
   "execution_count": 3,
   "metadata": {},
   "outputs": [],
   "source": [
    "def findnonoverlap(totalcoverage,c,n,l,b):\n",
    "    '''\n",
    "    finds the non overlapping region given current totalcoverage, tower, tower sequence number,\n",
    "    length and breadth of region\n",
    "    '''\n",
    "    a1= deepcopy(totalcoverage.m)\n",
    "    x1 = c.coord[0][0]\n",
    "    y1 = c.coord[0][1]\n",
    "    x2 = c.coord[3][0]\n",
    "    y2 = c.coord[3][1]\n",
    "    for i in range(x1,x2+1):\n",
    "        for j in range(y1,y2+1):\n",
    "            a1[j][i]+=n\n",
    "    \n",
    "    temp=[]\n",
    "    for i in range(b):\n",
    "        row=[]\n",
    "        for j in range(l):\n",
    "            row.append(int(a1[i][j] == n))\n",
    "        temp.append(row)\n",
    "            \n",
    "   \n",
    "    return temp\n",
    "            \n",
    "    "
   ]
  },
  {
   "cell_type": "markdown",
   "metadata": {},
   "source": [
    "Maximal Rectangle function finds the maximum possible rectangle in the non-overlapping region. It takes a matrix of ones and zeros and returns the position, height and width of the maximal rectangle.\n",
    "### Algorithm\n",
    "Initially, I define an array of length n+1 which contains height. This counts the number of ones above the point inclusive of point. It is zero if the value in the matrix is zero. Then, I have used a running counter to keep track of the maximum area. I iterate through the height array and store the iterated column value in a stack. If the height of the current column is lesser than the height of the previous column, then I pop out the stack value. \n",
    "I also calculated the corresponding area using - \n",
    "1. Height of the corresponding column from height matrix \n",
    "\n",
    "2. Width calculated by subtracting the popped out column position from current column position.\n",
    "\n",
    "I continue this until the height of the last element in stack is equal or lesser than the height of current element in stack. This ensures that I go through all the possible rectangles. I am storing the area value in area variable and the location in pos tuple."
   ]
  },
  {
   "cell_type": "code",
   "execution_count": 4,
   "metadata": {},
   "outputs": [],
   "source": [
    "def maximalRectangle(matrix):\n",
    "    \"\"\"\n",
    "    Finds the maximal rectangle in the trimmed region\n",
    "    Input is the matrix of non overlapping region\n",
    "    \"\"\"\n",
    "        \n",
    "    if not matrix or not matrix[0]:\n",
    "        return 0\n",
    "    #for row in matrix:\n",
    "     #   print (row)\n",
    "           \n",
    "    n = len(matrix[0])\n",
    "    height = [0] * (n + 1)\n",
    "    area = 0\n",
    "    j=0;\n",
    "    pos=(0,0,0,0)\n",
    "    for row in matrix:\n",
    "        for i in range(n):\n",
    "            height[i] = height[i] + 1 if row[i] == 1 else 0\n",
    "        stack = [-1]\n",
    "        for i in range(n + 1):\n",
    "            while height[i] < height[stack[-1]]:\n",
    "                h = height[stack.pop()]\n",
    "                w = i - 1 - stack[-1]\n",
    "\n",
    "                    \n",
    "                if h*w >area:\n",
    "                    pos =(stack[-1]+1, j-h+1,w,h)\n",
    "                area = max(area, h * w)\n",
    "             \n",
    "            stack.append(i)\n",
    "           \n",
    "        j+=1\n",
    "\n",
    "    return pos,area\n",
    "\n",
    "\n"
   ]
  },
  {
   "cell_type": "code",
   "execution_count": 5,
   "metadata": {},
   "outputs": [],
   "source": [
    "def areacov(n,l,b):\n",
    "    '''\n",
    "    Generates a matrix containing information about area coverage\n",
    "    The number in the matrix tells us which tower covers that particular point\n",
    "    returns the coverage coordinates of tower1 and tower 2\n",
    "    '''\n",
    "    tower1 =[]\n",
    "    tower2 =[]\n",
    "    m=[[]]\n",
    "    temp=[[0 for y in range(l)] for x in range (b)]\n",
    "    for i in range(n):\n",
    "        \n",
    "        if i==0:\n",
    "            c=tower(l,b)\n",
    "            totalcoverage=area(c,l,b,1)\n",
    "            tower1.append(c)\n",
    "            tower2.append(c)\n",
    "        if i:\n",
    "            ans=0\n",
    "            while ans==0:\n",
    "                c=tower(l,b)\n",
    "                temp=findnonoverlap(totalcoverage,c,i+1,l,b)\n",
    "                maxrect,ans=maximalRectangle(temp)\n",
    "            tower2.append(c)\n",
    "            newtower=tower(l,b)\n",
    "            newtower.resize(maxrect[0],maxrect[1],maxrect[0]+maxrect[2]-1,maxrect[1]+maxrect[3]-1)\n",
    "            tower1.append(newtower)\n",
    "            area_new=area(newtower,l,b,i+1) \n",
    "            totalcoverage+area_new\n",
    "    return totalcoverage,tower1,tower2"
   ]
  },
  {
   "cell_type": "code",
   "execution_count": 175,
   "metadata": {},
   "outputs": [],
   "source": [
    "def total_area_towerlist(towerlist,l,b):\n",
    "    updatedtowerlist=[]\n",
    "    firsttower=tower(l,b)\n",
    "    firsttower.resize(towerlist[0].coord[0][0],towerlist[0].coord[0][1],towerlist[0].coord[3][0],towerlist[0].coord[3][1])\n",
    "    updatedtowerlist.append(firsttower)\n",
    "    totalcoverage1=area(firsttower,l,b,1)\n",
    "    for i in range(1,len(towerlist)):\n",
    "        tower1=tower(l,b)\n",
    "        tower1.resize(towerlist[i].coord[0][0],towerlist[i].coord[0][1],towerlist[i].coord[3][0],towerlist[i].coord[3][1])\n",
    "        temp=findnonoverlap(totalcoverage1,tower1,i+1,l,b)\n",
    "        maxrect,ans=maximalRectangle(temp)\n",
    "        newtower=tower(l,b)\n",
    "        newtower.resize(maxrect[0],maxrect[1],maxrect[0]+maxrect[2]-1,maxrect[1]+maxrect[3]-1)\n",
    "        area_new=area(newtower,l,b,i+1)\n",
    "        updatedtowerlist.append(newtower)\n",
    "        totalcoverage1+area_new\n",
    "    sns.heatmap(totalcoverage1.m, annot=True, fmt=\"d\")\n",
    "    area1=0\n",
    "    for i in range(l):\n",
    "        for j in range(b):\n",
    "            if totalcoverage1.m[j][i] > 0:\n",
    "                area1+=1\n",
    "    print(\"Resulting resolved coverage:\",area1)\n",
    "    return updatedtowerlist"
   ]
  },
  {
   "cell_type": "code",
   "execution_count": 176,
   "metadata": {},
   "outputs": [],
   "source": [
    "def generate_towers_random(n,l,b):\n",
    "    towerlist=[]\n",
    "    for i in range(n):\n",
    "        tower1= tower(l,b)\n",
    "        towerlist.append(tower1)\n",
    "    return towerlist\n",
    "    "
   ]
  },
  {
   "cell_type": "code",
   "execution_count": 177,
   "metadata": {},
   "outputs": [],
   "source": [
    "\n",
    "def generate_towers(tower_list_coord,l,b):\n",
    "    towerlist=[]\n",
    "    for i in range(len(tower_list_coord)):\n",
    "        tower1= tower(l,b)\n",
    "        tower1.resize(tower_list_coord[i][0],tower_list_coord[i][1],tower_list_coord[i][2],tower_list_coord[i][3])\n",
    "        towerlist.append(tower1)\n",
    "    return towerlist"
   ]
  },
  {
   "cell_type": "markdown",
   "metadata": {},
   "source": [
    "## Question1"
   ]
  },
  {
   "cell_type": "markdown",
   "metadata": {},
   "source": [
    "Given an overall desired coverage footprint and a sequence of ​n communications towers, what is the resulting resolved coverage?"
   ]
  },
  {
   "cell_type": "markdown",
   "metadata": {},
   "source": [
    "I have implemented question 1 in two ways. In the first method, I am passing towers of fixed size using function generate_towers. Every tower is represented by a tuple with 4 values. First value is the x coordinate of the top-left point. Second value is the y coordinate of the top-left point. Third value is the x coordinate of the bottom-right point. Fourth value is the y coordinate of the bottom-right point. That is (x0,y0,x3,y3). We can modify the input - towerlist and see the result"
   ]
  },
  {
   "cell_type": "code",
   "execution_count": 178,
   "metadata": {},
   "outputs": [
    {
     "name": "stdout",
     "output_type": "stream",
     "text": [
      "('Resulting resolved coverage:', 50)\n",
      "Towers before resolution\n",
      "\n",
      "[Coordinates are(0, 0, 4, 3), Coordinates are(2, 2, 5, 4), Coordinates are(3, 1, 6, 4), Coordinates are(2, 2, 7, 7), Coordinates are(1, 6, 9, 6)]\n",
      "\n",
      "\n",
      "Towers after resolution\n",
      "\n",
      "[Coordinates are(0, 0, 4, 3), Coordinates are(2, 4, 5, 4), Coordinates are(5, 1, 6, 3), Coordinates are(2, 5, 7, 7), Coordinates are(8, 6, 9, 6)]\n"
     ]
    },
    {
     "data": {
      "image/png": "[encoded data removed]",
      "text/plain": [
       "<matplotlib.figure.Figure at 0x1a16c88950>"
      ]
     },
     "metadata": {},
     "output_type": "display_data"
    }
   ],
   "source": [
    "towerlist=[(0,0,4,3),(2,2,5,4),(3,1,6,4),(2,2,7,7),(1,6,9,6)]\n",
    "\n",
    "towerlist1=generate_towers(towerlist,10,10)\n",
    "towerlistret=total_area_towerlist(towerlist1,10,10)\n",
    "print(\"Towers before resolution\\n\")\n",
    "print(towerlist1)\n",
    "print(\"\\n\")\n",
    "print(\"Towers after resolution\\n\")\n",
    "print(towerlistret)\n",
    "\n"
   ]
  },
  {
   "cell_type": "markdown",
   "metadata": {},
   "source": [
    "In the second method, I am generating random towers using function generate_towers_random. The function generate_towers_random expects number of towers, length and breadth of the desired coverage area as the input"
   ]
  },
  {
   "cell_type": "code",
   "execution_count": 185,
   "metadata": {},
   "outputs": [
    {
     "name": "stdout",
     "output_type": "stream",
     "text": [
      "('Resulting resolved coverage:', 41)\n",
      "Towers before resolution\n",
      "\n",
      "[Coordinates are(0, 6, 4, 7), Coordinates are(0, 8, 0, 8), Coordinates are(6, 6, 9, 7), Coordinates are(2, 6, 2, 7), Coordinates are(5, 5, 6, 8), Coordinates are(6, 7, 9, 7), Coordinates are(1, 1, 6, 1), Coordinates are(9, 6, 9, 7), Coordinates are(3, 4, 9, 9), Coordinates are(6, 3, 9, 8)]\n",
      "\n",
      "\n",
      "Towers after resolution\n",
      "\n",
      "[Coordinates are(0, 6, 4, 7), Coordinates are(0, 8, 0, 8), Coordinates are(6, 6, 9, 7), Coordinates are(0, 0, -1, -1), Coordinates are(5, 5, 5, 8), Coordinates are(0, 0, -1, -1), Coordinates are(1, 1, 6, 1), Coordinates are(0, 0, -1, -1), Coordinates are(6, 4, 9, 5), Coordinates are(6, 3, 9, 3)]\n"
     ]
    },
    {
     "data": {
      "image/png": "[encoded data removed]",
      "text/plain": [
       "<matplotlib.figure.Figure at 0x1a166dbbd0>"
      ]
     },
     "metadata": {},
     "output_type": "display_data"
    }
   ],
   "source": [
    "\n",
    "towerlist1=generate_towers_random(10,10,10)\n",
    "towerlistret=total_area_towerlist(towerlist1,10,10)\n",
    "print(\"Towers before resolution\\n\")\n",
    "print(towerlist1)\n",
    "print(\"\\n\")\n",
    "print(\"Towers after resolution\\n\")\n",
    "print(towerlistret)"
   ]
  },
  {
   "cell_type": "markdown",
   "metadata": {},
   "source": [
    "## Question 2"
   ]
  },
  {
   "cell_type": "markdown",
   "metadata": {},
   "source": [
    "What is the total area of coverage relative to the desired total coverage area of the original footprint? That is, are there any gaps in coverage?"
   ]
  },
  {
   "cell_type": "code",
   "execution_count": 34,
   "metadata": {},
   "outputs": [],
   "source": [
    "def avarea(n,l,b):\n",
    "    area=0\n",
    "    cov,tow1,tow2=areacov(n,l,b)\n",
    "    for i in range(l):\n",
    "        for j in range(b):\n",
    "            if cov.m[j][i] > 0:\n",
    "                area+=1\n",
    "    print(\"Area covered = \",area)\n",
    "    print(\"Total area covered relative to the desired total coverage area = \",float(area)/(l*b))"
   ]
  },
  {
   "cell_type": "markdown",
   "metadata": {},
   "source": [
    "Function avrea expects number of towers, length and breadth of desired coverage region as input"
   ]
  },
  {
   "cell_type": "code",
   "execution_count": 36,
   "metadata": {},
   "outputs": [
    {
     "name": "stdout",
     "output_type": "stream",
     "text": [
      "('Area covered', 43)\n",
      "('Total area covered relative to the desired total coverage area', 0.43)\n"
     ]
    }
   ],
   "source": [
    "avarea(10,10,10)"
   ]
  },
  {
   "cell_type": "markdown",
   "metadata": {},
   "source": [
    "## Question 3"
   ]
  },
  {
   "cell_type": "markdown",
   "metadata": {},
   "source": [
    "On average, how many communications towers are required before full coverage is obtained?"
   ]
  },
  {
   "cell_type": "code",
   "execution_count": 166,
   "metadata": {},
   "outputs": [],
   "source": [
    "def tower_fullcoverage(l,b,plotin):\n",
    "    '''\n",
    "    Generates number of towers required for full coverage\n",
    "    '''\n",
    "    tower1 =[]\n",
    "    tower2 =[]\n",
    "    m=[[]]\n",
    "    return_area=0\n",
    "    i=0\n",
    "    temp=[[0 for y in range(l)] for x in range (b)]\n",
    "    while return_area != l*b:\n",
    "        \n",
    "        if i==0:\n",
    "            c=tower(l,b)\n",
    "            totalcoverage=area(c,l,b,1)\n",
    "            tower1.append(c)\n",
    "            tower2.append(c)\n",
    "        if i:\n",
    "            ans=0\n",
    "            while ans==0:\n",
    "                c=tower(l,b)\n",
    "                temp=findnonoverlap(totalcoverage,c,i+1,l,b)\n",
    "                maxrect,ans=maximalRectangle(temp)\n",
    "            tower2.append(c)\n",
    "            newtower=tower(l,b)\n",
    "            newtower.resize(maxrect[0],maxrect[1],maxrect[0]+maxrect[2]-1,maxrect[1]+maxrect[3]-1)\n",
    "            tower1.append(newtower)\n",
    "            area_new=area(newtower,l,b,i+1) \n",
    "            totalcoverage=totalcoverage+area_new\n",
    "            return_area=0\n",
    "            for i1 in range(l):\n",
    "                for j1 in range(b):\n",
    "                    if totalcoverage.m[j1][i1] > 0:\n",
    "                        return_area+=1\n",
    "        i+=1\n",
    "    if plotin:\n",
    "        sns.heatmap(totalcoverage.m, annot=True, fmt=\"d\")\n",
    "        \n",
    "    return i"
   ]
  },
  {
   "cell_type": "code",
   "execution_count": 167,
   "metadata": {},
   "outputs": [],
   "source": [
    "def avtower_fullcoverage(l,b):\n",
    "    tow=0\n",
    "    for i in range(30):\n",
    "        tow+=tower_fullcoverage(l,b,0)\n",
    "    return (tow/30)\n",
    "    "
   ]
  },
  {
   "cell_type": "markdown",
   "metadata": {},
   "source": [
    "Function avtower_fullcoverage expects length and breadth of the desired coverage region as the input"
   ]
  },
  {
   "cell_type": "code",
   "execution_count": 168,
   "metadata": {},
   "outputs": [
    {
     "data": {
      "text/plain": [
       "37"
      ]
     },
     "execution_count": 168,
     "metadata": {},
     "output_type": "execute_result"
    }
   ],
   "source": [
    "avtower_fullcoverage(10,20)"
   ]
  },
  {
   "cell_type": "code",
   "execution_count": 169,
   "metadata": {},
   "outputs": [
    {
     "data": {
      "text/plain": [
       "30"
      ]
     },
     "execution_count": 169,
     "metadata": {},
     "output_type": "execute_result"
    },
    {
     "data": {
      "image/png": "[encoded data removed]",
      "text/plain": [
       "<matplotlib.figure.Figure at 0x10266f090>"
      ]
     },
     "metadata": {},
     "output_type": "display_data"
    }
   ],
   "source": [
    "tower_fullcoverage(10,10,1)"
   ]
  },
  {
   "cell_type": "markdown",
   "metadata": {},
   "source": [
    "## Testcase"
   ]
  },
  {
   "cell_type": "markdown",
   "metadata": {},
   "source": [
    "List towerlist contains the list of rectangles.\n",
    "\n",
    "Every tower is represented by a tuple with 4 values. First value is the x coordinate of the top-left point. Second value is the y coordinate of the top-left point. Third value is the x coordinate of the bottom-right point. Fourth value is the y coordinate of the bottom-right point. That is (x0,y0,x3,y3)."
   ]
  },
  {
   "cell_type": "code",
   "execution_count": 137,
   "metadata": {},
   "outputs": [],
   "source": [
    "towerlist=[(0,0,4,3),(2,2,5,4),(3,1,6,4),(2,2,7,7),(1,6,9,6)]"
   ]
  },
  {
   "cell_type": "code",
   "execution_count": 198,
   "metadata": {},
   "outputs": [],
   "source": [
    "def testcase(towerlist,l,breadth):\n",
    "    c=tower(l,breadth)\n",
    "    c.resize(towerlist[0][0],towerlist[0][1],towerlist[0][2],towerlist[0][3])\n",
    "    totalcoverage1=area(c,l,breadth,1)\n",
    "    plt.set_cmap('tab10')\n",
    "    print(\"Rectangle 1 enters\")\n",
    "    plt.grid(None)\n",
    "    plt.imshow(totalcoverage1.m)\n",
    "    plt.colorbar()\n",
    "    plt.show()\n",
    "\n",
    "    for i in range(1,len(towerlist)):\n",
    "        b=tower(l,breadth)\n",
    "        b.resize(towerlist[i][0],towerlist[i][1],towerlist[i][2],towerlist[i][3])\n",
    "        area_new=area(b,l,breadth,i+1)\n",
    "        totalcoverage=area(b,l,breadth,i+1)\n",
    "        totalcoverage.copy(totalcoverage1)\n",
    "        totalcoverage+area_new\n",
    "        plt.figure(figsize = (12,4))\n",
    "        plt.subplot(1,2,1)\n",
    "        plt.grid(None)\n",
    "        plt.imshow(totalcoverage.m)\n",
    "        plt.colorbar()\n",
    "        plt.subplot(1,2,2)\n",
    "        b.resize(towerlist[i][0],towerlist[i][1],towerlist[i][2],towerlist[i][3])\n",
    "        temp=findnonoverlap(totalcoverage1,b,i+1,l,breadth)\n",
    "        maxrect,ans=maximalRectangle(temp)\n",
    "        newtower=tower(l,breadth)\n",
    "        newtower.resize(maxrect[0],maxrect[1],maxrect[0]+maxrect[2]-1,maxrect[1]+maxrect[3]-1)\n",
    "        area_new=area(newtower,l,breadth,i+1)\n",
    "        totalcoverage1+area_new\n",
    "        plt.grid(None)\n",
    "        plt.imshow(totalcoverage1.m)\n",
    "        plt.colorbar()\n",
    "       \n",
    "        print(\"Rectangle \"+str(i+1)+\" entered and resolved\")\n",
    "        plt.show()"
   ]
  },
  {
   "cell_type": "code",
   "execution_count": 199,
   "metadata": {},
   "outputs": [],
   "source": [
    "towerlist=[(0,0,4,3),(2,2,5,4),(3,1,6,4),(2,2,7,7),(1,6,9,6),(5,0,9,9)]"
   ]
  },
  {
   "cell_type": "code",
   "execution_count": 200,
   "metadata": {},
   "outputs": [
    {
     "name": "stdout",
     "output_type": "stream",
     "text": [
      "Rectangle 1 enters\n"
     ]
    },
    {
     "data": {
      "image/png": "[encoded data removed]",
      "text/plain": [
       "<matplotlib.figure.Figure at 0x1a16da46d0>"
      ]
     },
     "metadata": {},
     "output_type": "display_data"
    },
    {
     "name": "stdout",
     "output_type": "stream",
     "text": [
      "Rectangle 2 entered and resolved\n"
     ]
    },
    {
     "data": {
      "image/png": "[encoded data removed]",
      "text/plain": [
       "<matplotlib.figure.Figure at 0x1a168c9c50>"
      ]
     },
     "metadata": {},
     "output_type": "display_data"
    },
    {
     "name": "stdout",
     "output_type": "stream",
     "text": [
      "Rectangle 3 entered and resolved\n"
     ]
    },
    {
     "data": {
      "image/png": "[encoded data removed]",
      "text/plain": [
       "<matplotlib.figure.Figure at 0x1a16f0cad0>"
      ]
     },
     "metadata": {},
     "output_type": "display_data"
    },
    {
     "name": "stdout",
     "output_type": "stream",
     "text": [
      "Rectangle 4 entered and resolved\n"
     ]
    },
    {
     "data": {
      "image/png": "[encoded data removed]",
      "text/plain": [
       "<matplotlib.figure.Figure at 0x1a172dab50>"
      ]
     },
     "metadata": {},
     "output_type": "display_data"
    },
    {
     "name": "stdout",
     "output_type": "stream",
     "text": [
      "Rectangle 5 entered and resolved\n"
     ]
    },
    {
     "data": {
      "image/png": "[encoded data removed]",
      "text/plain": [
       "<matplotlib.figure.Figure at 0x1a172dab10>"
      ]
     },
     "metadata": {},
     "output_type": "display_data"
    },
    {
     "name": "stdout",
     "output_type": "stream",
     "text": [
      "Rectangle 6 entered and resolved\n"
     ]
    },
    {
     "data": {
      "image/png": "[encoded data removed]",
      "text/plain": [
       "<matplotlib.figure.Figure at 0x1a16c2a4d0>"
      ]
     },
     "metadata": {},
     "output_type": "display_data"
    }
   ],
   "source": [
    "testcase(towerlist,10,10)"
   ]
  },
  {
   "cell_type": "markdown",
   "metadata": {
    "collapsed": true
   },
   "source": [
    "## Analysis\n"
   ]
  },
  {
   "cell_type": "code",
   "execution_count": null,
   "metadata": {},
   "outputs": [],
   "source": []
  },
  {
   "cell_type": "code",
   "execution_count": null,
   "metadata": {},
   "outputs": [],
   "source": [
    "  "
   ]
  },
  {
   "cell_type": "code",
   "execution_count": null,
   "metadata": {},
   "outputs": [],
   "source": [
    "\n",
    "    "
   ]
  },
  {
   "cell_type": "code",
   "execution_count": null,
   "metadata": {
    "collapsed": true
   },
   "outputs": [],
   "source": []
  },
  {
   "cell_type": "code",
   "execution_count": null,
   "metadata": {
    "collapsed": true
   },
   "outputs": [],
   "source": []
  },
  {
   "cell_type": "code",
   "execution_count": null,
   "metadata": {
    "collapsed": true
   },
   "outputs": [],
   "source": []
  }
 ],
 "metadata": {
  "kernelspec": {
   "display_name": "Python 2",
   "language": "python",
   "name": "python2"
  },
  "language_info": {
   "codemirror_mode": {
    "name": "ipython",
    "version": 2
   },
   "file_extension": ".py",
   "mimetype": "text/x-python",
   "name": "python",
   "nbconvert_exporter": "python",
   "pygments_lexer": "ipython2",
   "version": "2.7.14"
  }
 },
 "nbformat": 4,
 "nbformat_minor": 2
}
